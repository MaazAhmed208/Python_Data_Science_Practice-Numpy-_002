{
 "cells": [
  {
   "cell_type": "markdown",
   "id": "5deebad8",
   "metadata": {},
   "source": [
    "# Maaz Ahmed\n",
    "# Numpy"
   ]
  },
  {
   "cell_type": "markdown",
   "id": "73f24858",
   "metadata": {},
   "source": [
    "# Import NumPy as its abbreviation 'np'"
   ]
  },
  {
   "cell_type": "code",
   "execution_count": 1,
   "id": "67e5ace9",
   "metadata": {},
   "outputs": [],
   "source": [
    "import numpy as np"
   ]
  },
  {
   "cell_type": "markdown",
   "id": "c7fb93fd",
   "metadata": {},
   "source": [
    "# Create a 1-dimensional NumPy array using np.array()\n",
    "\n",
    "\n",
    "# Create a 2-dimensional NumPy array using np.array()\n",
    "\n",
    "\n",
    "# Create a 3-dimensional Numpy array using np.array()"
   ]
  },
  {
   "cell_type": "code",
   "execution_count": 3,
   "id": "ad69b551",
   "metadata": {},
   "outputs": [
    {
     "name": "stdout",
     "output_type": "stream",
     "text": [
      "1D Array\n",
      " [1 2 3]\n",
      "\n",
      "2D Array\n",
      " [[1 2 3]\n",
      " [4 5 6]\n",
      " [7 8 9]]\n",
      "\n",
      "3D Array\n",
      " [[[ 1  2  3]\n",
      "  [ 4  5  6]]\n",
      "\n",
      " [[ 7  8  9]\n",
      "  [10 11 12]]]\n"
     ]
    }
   ],
   "source": [
    "#  1D array\n",
    "a = np.array([1,2,3])\n",
    "print('1D Array\\n',a)\n",
    "\n",
    "# 2D array\n",
    "b = np.array([[1,2,3],\n",
    "              [4,5,6],\n",
    "              [7,8,9]])\n",
    "print('\\n2D Array\\n',b)\n",
    "\n",
    "# 3D array\n",
    "c = np.array([[[1,2,3],\n",
    "               [4,5,6]],\n",
    "                [[7,8,9],\n",
    "                 [10,11,12]]])\n",
    "print('\\n3D Array\\n',c)"
   ]
  },
  {
   "cell_type": "markdown",
   "id": "5255870a",
   "metadata": {},
   "source": [
    "# Now we've you've created 3 different arrays, let's find details about them.\n",
    "\n",
    "# Find the shape, number of dimensions, data type, size and type of each array."
   ]
  },
  {
   "cell_type": "code",
   "execution_count": 4,
   "id": "103617d2",
   "metadata": {},
   "outputs": [
    {
     "name": "stdout",
     "output_type": "stream",
     "text": [
      "1D Array\n",
      "Shape --->  (3,)\n",
      "\n",
      "Number of dimensions --->  1\n",
      "\n",
      "Data type --->  int32\n",
      "\n",
      "Size --->  3\n",
      "\n",
      "Type --->  <class 'numpy.ndarray'>\n",
      "\n",
      "\n",
      "2D Array\n",
      "Shape --->  (3, 3)\n",
      "\n",
      "Number of dimensions --->  2\n",
      "\n",
      "Data type --->  int32\n",
      "\n",
      "Size --->  9\n",
      "\n",
      "Type --->  <class 'numpy.ndarray'>\n",
      "\n",
      "\n",
      "3D Array\n",
      "Shape --->  (2, 2, 3)\n",
      "\n",
      "Number of dimensions --->  3\n",
      "\n",
      "Data type --->  int32\n",
      "\n",
      "Size --->  12\n",
      "\n",
      "Type --->  <class 'numpy.ndarray'>\n"
     ]
    }
   ],
   "source": [
    "# 1D Array \n",
    "print('1D Array\\nShape ---> ',a.shape)\n",
    "print('\\nNumber of dimensions ---> ',a.ndim)\n",
    "print('\\nData type ---> ',a.dtype)\n",
    "print('\\nSize ---> ',a.size)\n",
    "print('\\nType ---> ',type(a))\n",
    "\n",
    "# 2D Array \n",
    "print('\\n\\n2D Array\\nShape ---> ',b.shape)\n",
    "print('\\nNumber of dimensions ---> ',b.ndim)\n",
    "print('\\nData type ---> ',b.dtype)\n",
    "print('\\nSize ---> ',b.size)\n",
    "print('\\nType ---> ',type(b))\n",
    "\n",
    "# 3D Array \n",
    "print('\\n\\n3D Array\\nShape ---> ',c.shape)\n",
    "print('\\nNumber of dimensions ---> ',c.ndim)\n",
    "print('\\nData type ---> ',c.dtype)\n",
    "print('\\nSize ---> ',c.size)\n",
    "print('\\nType ---> ',type(c))\n"
   ]
  },
  {
   "cell_type": "markdown",
   "id": "cbf442f6",
   "metadata": {},
   "source": [
    "# Import pandas"
   ]
  },
  {
   "cell_type": "code",
   "execution_count": 5,
   "id": "4e654d09",
   "metadata": {},
   "outputs": [],
   "source": [
    "import pandas as pd"
   ]
  },
  {
   "cell_type": "markdown",
   "id": "58467e5f",
   "metadata": {},
   "source": [
    "# Create a DataFrame out of one of the arrays you've created"
   ]
  },
  {
   "cell_type": "code",
   "execution_count": 7,
   "id": "599086a7",
   "metadata": {},
   "outputs": [
    {
     "data": {
      "text/html": [
       "<div>\n",
       "<style scoped>\n",
       "    .dataframe tbody tr th:only-of-type {\n",
       "        vertical-align: middle;\n",
       "    }\n",
       "\n",
       "    .dataframe tbody tr th {\n",
       "        vertical-align: top;\n",
       "    }\n",
       "\n",
       "    .dataframe thead th {\n",
       "        text-align: right;\n",
       "    }\n",
       "</style>\n",
       "<table border=\"1\" class=\"dataframe\">\n",
       "  <thead>\n",
       "    <tr style=\"text-align: right;\">\n",
       "      <th></th>\n",
       "      <th>0</th>\n",
       "      <th>1</th>\n",
       "      <th>2</th>\n",
       "    </tr>\n",
       "  </thead>\n",
       "  <tbody>\n",
       "    <tr>\n",
       "      <th>0</th>\n",
       "      <td>1</td>\n",
       "      <td>2</td>\n",
       "      <td>3</td>\n",
       "    </tr>\n",
       "    <tr>\n",
       "      <th>1</th>\n",
       "      <td>4</td>\n",
       "      <td>5</td>\n",
       "      <td>6</td>\n",
       "    </tr>\n",
       "    <tr>\n",
       "      <th>2</th>\n",
       "      <td>7</td>\n",
       "      <td>8</td>\n",
       "      <td>9</td>\n",
       "    </tr>\n",
       "  </tbody>\n",
       "</table>\n",
       "</div>"
      ],
      "text/plain": [
       "   0  1  2\n",
       "0  1  2  3\n",
       "1  4  5  6\n",
       "2  7  8  9"
      ]
     },
     "execution_count": 7,
     "metadata": {},
     "output_type": "execute_result"
    }
   ],
   "source": [
    "#Converting Numpy 2D array to Pandas dataframe\n",
    "df = pd.DataFrame(b)\n",
    "df"
   ]
  },
  {
   "cell_type": "markdown",
   "id": "f4d6eabf",
   "metadata": {},
   "source": [
    "\n",
    "# Create an array of shape (10, 2) with only ones"
   ]
  },
  {
   "cell_type": "code",
   "execution_count": 20,
   "id": "852b5021",
   "metadata": {},
   "outputs": [
    {
     "data": {
      "text/plain": [
       "array([[1., 1.],\n",
       "       [1., 1.],\n",
       "       [1., 1.],\n",
       "       [1., 1.],\n",
       "       [1., 1.],\n",
       "       [1., 1.],\n",
       "       [1., 1.],\n",
       "       [1., 1.],\n",
       "       [1., 1.],\n",
       "       [1., 1.]])"
      ]
     },
     "execution_count": 20,
     "metadata": {},
     "output_type": "execute_result"
    }
   ],
   "source": [
    "one_array = np.ones(shape=(10,2))\n",
    "one_array"
   ]
  },
  {
   "cell_type": "markdown",
   "id": "a3d9c29e",
   "metadata": {},
   "source": [
    "# Create an array of shape (7, 2, 3) of only zeros"
   ]
  },
  {
   "cell_type": "code",
   "execution_count": 23,
   "id": "ba324c68",
   "metadata": {},
   "outputs": [
    {
     "data": {
      "text/plain": [
       "array([[[0., 0., 0.],\n",
       "        [0., 0., 0.]],\n",
       "\n",
       "       [[0., 0., 0.],\n",
       "        [0., 0., 0.]],\n",
       "\n",
       "       [[0., 0., 0.],\n",
       "        [0., 0., 0.]],\n",
       "\n",
       "       [[0., 0., 0.],\n",
       "        [0., 0., 0.]],\n",
       "\n",
       "       [[0., 0., 0.],\n",
       "        [0., 0., 0.]],\n",
       "\n",
       "       [[0., 0., 0.],\n",
       "        [0., 0., 0.]],\n",
       "\n",
       "       [[0., 0., 0.],\n",
       "        [0., 0., 0.]]])"
      ]
     },
     "execution_count": 23,
     "metadata": {},
     "output_type": "execute_result"
    }
   ],
   "source": [
    "zero_array = np.zeros(shape=(7,2,3))\n",
    "zero_array"
   ]
  },
  {
   "cell_type": "markdown",
   "id": "719b62cd",
   "metadata": {},
   "source": [
    "# Create an array within a range of 0 and 100 with step 3"
   ]
  },
  {
   "cell_type": "code",
   "execution_count": 27,
   "id": "fc5f09d7",
   "metadata": {},
   "outputs": [
    {
     "data": {
      "text/plain": [
       "array([ 0,  3,  6,  9, 12, 15, 18, 21, 24, 27, 30, 33, 36, 39, 42, 45, 48,\n",
       "       51, 54, 57, 60, 63, 66, 69, 72, 75, 78, 81, 84, 87, 90, 93, 96, 99])"
      ]
     },
     "execution_count": 27,
     "metadata": {},
     "output_type": "execute_result"
    }
   ],
   "source": [
    "# arrage(start_value,end_value,steps)\n",
    "zerro_hun = np.arange(0,100,3)\n",
    "zerro_hun"
   ]
  },
  {
   "cell_type": "markdown",
   "id": "d8c07c24",
   "metadata": {},
   "source": [
    "# Create a random array with numbers between 0 and 10 of size (7, 2)"
   ]
  },
  {
   "cell_type": "code",
   "execution_count": 41,
   "id": "d2e33b59",
   "metadata": {},
   "outputs": [
    {
     "data": {
      "text/plain": [
       "array([[5, 9],\n",
       "       [3, 5],\n",
       "       [1, 9],\n",
       "       [1, 9],\n",
       "       [3, 7],\n",
       "       [6, 8],\n",
       "       [7, 4]])"
      ]
     },
     "execution_count": 41,
     "metadata": {},
     "output_type": "execute_result"
    }
   ],
   "source": [
    "np.random.randint(0,10,size=(7,2))"
   ]
  },
  {
   "cell_type": "markdown",
   "id": "ea66e4f6",
   "metadata": {},
   "source": [
    "\n",
    "# Create a random array of floats between 0 & 1 of shape (3, 5)\n"
   ]
  },
  {
   "cell_type": "code",
   "execution_count": 40,
   "id": "fae69629",
   "metadata": {},
   "outputs": [
    {
     "data": {
      "text/plain": [
       "array([[0.01326496, 0.94220176, 0.56328822, 0.3854165 , 0.01596625],\n",
       "       [0.23089383, 0.24102547, 0.68326352, 0.60999666, 0.83319491],\n",
       "       [0.17336465, 0.39106061, 0.18223609, 0.75536141, 0.42515587]])"
      ]
     },
     "execution_count": 40,
     "metadata": {},
     "output_type": "execute_result"
    }
   ],
   "source": [
    "np.random.random(size=(3,5))"
   ]
  },
  {
   "cell_type": "markdown",
   "id": "3eeebac3",
   "metadata": {},
   "source": [
    "# Set the random seed to 42\n",
    "\n",
    "\n",
    "# Create a random array of numbers between 0 & 10 of size (4, 6)"
   ]
  },
  {
   "cell_type": "code",
   "execution_count": 43,
   "id": "11ba015a",
   "metadata": {},
   "outputs": [
    {
     "data": {
      "text/plain": [
       "array([[6, 3, 7, 4, 6, 9],\n",
       "       [2, 6, 7, 4, 3, 7],\n",
       "       [7, 2, 5, 4, 1, 7],\n",
       "       [5, 1, 4, 0, 9, 5]])"
      ]
     },
     "execution_count": 43,
     "metadata": {},
     "output_type": "execute_result"
    }
   ],
   "source": [
    "np.random.seed(42)\n",
    "np.random.randint(0,10,size=(4,6))"
   ]
  },
  {
   "cell_type": "markdown",
   "id": "a62a7957",
   "metadata": {},
   "source": [
    "# Create an array of random numbers between 1 & 10 of size (3, 7)\n",
    "# and save it to a variable\n",
    "\n",
    "\n",
    "# Find the unique numbers in the array you just created"
   ]
  },
  {
   "cell_type": "code",
   "execution_count": 47,
   "id": "e8409220",
   "metadata": {},
   "outputs": [
    {
     "name": "stdout",
     "output_type": "stream",
     "text": [
      "[[2 5 8 9 9 1 9]\n",
      " [7 9 8 1 8 8 3]\n",
      " [1 8 3 3 1 5 7]]\n"
     ]
    },
    {
     "data": {
      "text/plain": [
       "array([1, 2, 3, 5, 7, 8, 9])"
      ]
     },
     "execution_count": 47,
     "metadata": {},
     "output_type": "execute_result"
    }
   ],
   "source": [
    "rand_array = np.random.randint(1,10,size=(3,7))\n",
    "print(rand_array)\n",
    "# uniqye() provide onlu unique no in the array\n",
    "np.unique(rand_array)"
   ]
  },
  {
   "cell_type": "markdown",
   "id": "90631768",
   "metadata": {},
   "source": [
    "\n",
    "# Find the 0'th index of the latest array you created"
   ]
  },
  {
   "cell_type": "code",
   "execution_count": 50,
   "id": "b9497093",
   "metadata": {},
   "outputs": [
    {
     "data": {
      "text/plain": [
       "array([2, 5, 8, 9, 9, 1, 9])"
      ]
     },
     "execution_count": 50,
     "metadata": {},
     "output_type": "execute_result"
    }
   ],
   "source": [
    "rand_array[0]"
   ]
  },
  {
   "cell_type": "markdown",
   "id": "fa3f5874",
   "metadata": {},
   "source": [
    "# Get the first 2 rows of latest array you created\n"
   ]
  },
  {
   "cell_type": "code",
   "execution_count": 53,
   "id": "d5e5cc48",
   "metadata": {},
   "outputs": [
    {
     "data": {
      "text/plain": [
       "array([[2, 5, 8, 9, 9, 1, 9],\n",
       "       [7, 9, 8, 1, 8, 8, 3]])"
      ]
     },
     "execution_count": 53,
     "metadata": {},
     "output_type": "execute_result"
    }
   ],
   "source": [
    "rand_array[0:2]"
   ]
  },
  {
   "cell_type": "markdown",
   "id": "05fbbfe6",
   "metadata": {},
   "source": [
    "# Get the first 2 values of the first 2 rows of the latest array"
   ]
  },
  {
   "cell_type": "code",
   "execution_count": 60,
   "id": "c133d344",
   "metadata": {},
   "outputs": [
    {
     "data": {
      "text/plain": [
       "array([[2, 5],\n",
       "       [7, 9]])"
      ]
     },
     "execution_count": 60,
     "metadata": {},
     "output_type": "execute_result"
    }
   ],
   "source": [
    "rand_array[0:2, 0:2]"
   ]
  },
  {
   "cell_type": "markdown",
   "id": "6190d48c",
   "metadata": {},
   "source": [
    "# Create a random array of numbers between 0 & 10 and an array of ones\n",
    "# both of size (3, 5), save them both to variables"
   ]
  },
  {
   "cell_type": "code",
   "execution_count": 66,
   "id": "b846e9ac",
   "metadata": {},
   "outputs": [
    {
     "name": "stdout",
     "output_type": "stream",
     "text": [
      "[[2 0 4 0 7]\n",
      " [0 0 1 1 5]\n",
      " [6 4 0 0 2]]\n",
      "[[1. 1. 1. 1. 1.]\n",
      " [1. 1. 1. 1. 1.]\n",
      " [1. 1. 1. 1. 1.]]\n"
     ]
    }
   ],
   "source": [
    "rand_array = np.random.randint(0,10,size=(3,5))\n",
    "print(rand_array)\n",
    "one_array = np.ones(shape=(3,5))\n",
    "print(one_array)"
   ]
  },
  {
   "cell_type": "markdown",
   "id": "6ffb0d64",
   "metadata": {},
   "source": [
    "# Add the two arrays together\n"
   ]
  },
  {
   "cell_type": "code",
   "execution_count": 91,
   "id": "2b42a014",
   "metadata": {},
   "outputs": [
    {
     "data": {
      "text/plain": [
       "array([[3., 1., 5., 1., 8.],\n",
       "       [1., 1., 2., 2., 6.],\n",
       "       [7., 5., 1., 1., 3.]])"
      ]
     },
     "execution_count": 91,
     "metadata": {},
     "output_type": "execute_result"
    }
   ],
   "source": [
    "ans_array = rand_array + one_array\n",
    "ans_array"
   ]
  },
  {
   "cell_type": "markdown",
   "id": "d57f4a17",
   "metadata": {},
   "source": [
    "# Create another array of ones of shape (5, 3)"
   ]
  },
  {
   "cell_type": "code",
   "execution_count": 70,
   "id": "9e294123",
   "metadata": {},
   "outputs": [
    {
     "data": {
      "text/plain": [
       "array([[1., 1., 1.],\n",
       "       [1., 1., 1.],\n",
       "       [1., 1., 1.],\n",
       "       [1., 1., 1.],\n",
       "       [1., 1., 1.]])"
      ]
     },
     "execution_count": 70,
     "metadata": {},
     "output_type": "execute_result"
    }
   ],
   "source": [
    "another_array = np.ones(shape=(5,3))\n",
    "another_array"
   ]
  },
  {
   "cell_type": "markdown",
   "id": "694489ae",
   "metadata": {},
   "source": [
    "# Try add the array of ones and the other most recent array together\n"
   ]
  },
  {
   "cell_type": "code",
   "execution_count": 75,
   "id": "7b2ef458",
   "metadata": {},
   "outputs": [
    {
     "ename": "ValueError",
     "evalue": "operands could not be broadcast together with shapes (3,5) (5,3) ",
     "output_type": "error",
     "traceback": [
      "\u001b[1;31m---------------------------------------------------------------------------\u001b[0m",
      "\u001b[1;31mValueError\u001b[0m                                Traceback (most recent call last)",
      "\u001b[1;32m<ipython-input-75-4ed7ca9b706a>\u001b[0m in \u001b[0;36m<module>\u001b[1;34m\u001b[0m\n\u001b[1;32m----> 1\u001b[1;33m \u001b[0mans_array\u001b[0m \u001b[1;33m=\u001b[0m \u001b[0mans_array\u001b[0m\u001b[1;33m+\u001b[0m\u001b[0manother_array\u001b[0m\u001b[1;33m\u001b[0m\u001b[1;33m\u001b[0m\u001b[0m\n\u001b[0m",
      "\u001b[1;31mValueError\u001b[0m: operands could not be broadcast together with shapes (3,5) (5,3) "
     ]
    }
   ],
   "source": [
    "ans_array = ans_array+another_array"
   ]
  },
  {
   "cell_type": "code",
   "execution_count": 78,
   "id": "e02c7d45",
   "metadata": {},
   "outputs": [
    {
     "data": {
      "text/plain": [
       "array([[ 7.,  5.,  9.,  5., 12.],\n",
       "       [ 5.,  5.,  6.,  6., 10.],\n",
       "       [11.,  9.,  5.,  5.,  7.]])"
      ]
     },
     "execution_count": 78,
     "metadata": {},
     "output_type": "execute_result"
    }
   ],
   "source": [
    "# have swaped rows with colmns now can add these array\n",
    "ans_array = ans_array+another_array.transpose()\n",
    "ans_array"
   ]
  },
  {
   "cell_type": "markdown",
   "id": "e599fe6d",
   "metadata": {},
   "source": [
    "# Subtract the new array of ones from the other most recent array"
   ]
  },
  {
   "cell_type": "code",
   "execution_count": 82,
   "id": "25fe59c9",
   "metadata": {},
   "outputs": [
    {
     "data": {
      "text/plain": [
       "array([[3., 1., 5., 1., 8.],\n",
       "       [1., 1., 2., 2., 6.],\n",
       "       [7., 5., 1., 1., 3.]])"
      ]
     },
     "execution_count": 82,
     "metadata": {},
     "output_type": "execute_result"
    }
   ],
   "source": [
    "ans_array = ans_array - one_array\n",
    "ans_array"
   ]
  },
  {
   "cell_type": "markdown",
   "id": "86d44ffa",
   "metadata": {},
   "source": [
    "# Multiply the ones array with the latest array"
   ]
  },
  {
   "cell_type": "code",
   "execution_count": 86,
   "id": "6fc831fa",
   "metadata": {},
   "outputs": [
    {
     "data": {
      "text/plain": [
       "array([[ 6.,  2., 10.,  2., 16.],\n",
       "       [ 2.,  2.,  4.,  4., 12.],\n",
       "       [14., 10.,  2.,  2.,  6.]])"
      ]
     },
     "execution_count": 86,
     "metadata": {},
     "output_type": "execute_result"
    }
   ],
   "source": [
    "ans_array = ans_array * one_array\n",
    "ans_array"
   ]
  },
  {
   "cell_type": "markdown",
   "id": "074782ea",
   "metadata": {},
   "source": [
    "# Take the latest array to the power of 2 using '**'\n"
   ]
  },
  {
   "cell_type": "code",
   "execution_count": 90,
   "id": "8f763e74",
   "metadata": {},
   "outputs": [
    {
     "data": {
      "text/plain": [
       "array([[ 9.,  1., 25.,  1., 64.],\n",
       "       [ 1.,  1.,  4.,  4., 36.],\n",
       "       [49., 25.,  1.,  1.,  9.]])"
      ]
     },
     "execution_count": 90,
     "metadata": {},
     "output_type": "execute_result"
    }
   ],
   "source": [
    "ans_array = ans_array ** 2\n",
    "ans_array"
   ]
  },
  {
   "cell_type": "markdown",
   "id": "56e5a4bf",
   "metadata": {},
   "source": [
    "# Do the same thing with np.square()"
   ]
  },
  {
   "cell_type": "code",
   "execution_count": 95,
   "id": "c5830813",
   "metadata": {},
   "outputs": [
    {
     "data": {
      "text/plain": [
       "array([[ 9.,  1., 25.,  1., 64.],\n",
       "       [ 1.,  1.,  4.,  4., 36.],\n",
       "       [49., 25.,  1.,  1.,  9.]])"
      ]
     },
     "execution_count": 95,
     "metadata": {},
     "output_type": "execute_result"
    }
   ],
   "source": [
    "np.square(ans_array)"
   ]
  },
  {
   "cell_type": "markdown",
   "id": "60090e9f",
   "metadata": {},
   "source": [
    "# Find the mean of the latest array using np.mean()"
   ]
  },
  {
   "cell_type": "code",
   "execution_count": 96,
   "id": "a7779c4d",
   "metadata": {},
   "outputs": [
    {
     "data": {
      "text/plain": [
       "3.1333333333333333"
      ]
     },
     "execution_count": 96,
     "metadata": {},
     "output_type": "execute_result"
    }
   ],
   "source": [
    "ans_array.mean()"
   ]
  },
  {
   "cell_type": "code",
   "execution_count": 97,
   "id": "edce8643",
   "metadata": {},
   "outputs": [
    {
     "data": {
      "text/plain": [
       "8.0"
      ]
     },
     "execution_count": 97,
     "metadata": {},
     "output_type": "execute_result"
    }
   ],
   "source": [
    "# Find the maximum of the latest array using np.max()\n",
    "np.max(ans_array)"
   ]
  },
  {
   "cell_type": "markdown",
   "id": "56704431",
   "metadata": {},
   "source": [
    "\n",
    "# Find the minimum of the latest array using np.min()"
   ]
  },
  {
   "cell_type": "code",
   "execution_count": 98,
   "id": "17cec06c",
   "metadata": {},
   "outputs": [
    {
     "data": {
      "text/plain": [
       "1.0"
      ]
     },
     "execution_count": 98,
     "metadata": {},
     "output_type": "execute_result"
    }
   ],
   "source": [
    "np.min(ans_array)"
   ]
  },
  {
   "cell_type": "markdown",
   "id": "2d7c180a",
   "metadata": {},
   "source": [
    "# Find the standard deviation of the latest array"
   ]
  },
  {
   "cell_type": "code",
   "execution_count": 100,
   "id": "ea0438c2",
   "metadata": {},
   "outputs": [
    {
     "data": {
      "text/plain": [
       "2.3626726862225804"
      ]
     },
     "execution_count": 100,
     "metadata": {},
     "output_type": "execute_result"
    }
   ],
   "source": [
    "np.std(ans_array)"
   ]
  },
  {
   "cell_type": "markdown",
   "id": "4c32a2b4",
   "metadata": {},
   "source": [
    "# Find the variance of the latest array`"
   ]
  },
  {
   "cell_type": "code",
   "execution_count": 103,
   "id": "bd791065",
   "metadata": {},
   "outputs": [
    {
     "data": {
      "text/plain": [
       "5.5822222222222235"
      ]
     },
     "execution_count": 103,
     "metadata": {},
     "output_type": "execute_result"
    }
   ],
   "source": [
    "np.var(ans_array)"
   ]
  },
  {
   "cell_type": "markdown",
   "id": "c21a82fa",
   "metadata": {},
   "source": [
    "# Reshape the latest array to (3, 5, 1)"
   ]
  },
  {
   "cell_type": "code",
   "execution_count": 104,
   "id": "5dd1e03b",
   "metadata": {},
   "outputs": [
    {
     "name": "stdout",
     "output_type": "stream",
     "text": [
      "[[3. 1. 5. 1. 8.]\n",
      " [1. 1. 2. 2. 6.]\n",
      " [7. 5. 1. 1. 3.]]\n"
     ]
    },
    {
     "data": {
      "text/plain": [
       "array([[3., 1., 7.],\n",
       "       [1., 1., 5.],\n",
       "       [5., 2., 1.],\n",
       "       [1., 2., 1.],\n",
       "       [8., 6., 3.]])"
      ]
     },
     "execution_count": 104,
     "metadata": {},
     "output_type": "execute_result"
    }
   ],
   "source": [
    "print(ans_array)\n",
    "ans_array.transpose()"
   ]
  },
  {
   "cell_type": "markdown",
   "id": "8a0f8ba5",
   "metadata": {},
   "source": [
    "# Create two arrays of random integers between 0 to 10\n",
    "# one of size (3, 3) the other of size (3, 2)\n"
   ]
  },
  {
   "cell_type": "code",
   "execution_count": 2,
   "id": "04504737",
   "metadata": {},
   "outputs": [
    {
     "name": "stdout",
     "output_type": "stream",
     "text": [
      "[[6 2 5]\n",
      " [4 0 6]\n",
      " [7 0 7]] \n",
      "\n",
      " [[7 9]\n",
      " [4 1]\n",
      " [6 4]]\n"
     ]
    }
   ],
   "source": [
    "array_one = np.random.randint(0,10,size=(3,3))\n",
    "array_two = np.random.randint(0,10,size=(3,2))\n",
    "print(array_one,'\\n\\n',array_two)"
   ]
  },
  {
   "cell_type": "markdown",
   "id": "aea75374",
   "metadata": {},
   "source": [
    "# Perform a dot product on the two newest arrays you created"
   ]
  },
  {
   "cell_type": "code",
   "execution_count": 3,
   "id": "b78376df",
   "metadata": {},
   "outputs": [
    {
     "data": {
      "text/plain": [
       "array([[80, 76],\n",
       "       [64, 60],\n",
       "       [91, 91]])"
      ]
     },
     "execution_count": 3,
     "metadata": {},
     "output_type": "execute_result"
    }
   ],
   "source": [
    "np.dot(array_one,array_two)"
   ]
  },
  {
   "cell_type": "markdown",
   "id": "88e6408d",
   "metadata": {},
   "source": [
    "# Take the latest two arrays, perform a transpose on one of them and then perform \n",
    "# a dot product on them both"
   ]
  },
  {
   "cell_type": "code",
   "execution_count": 5,
   "id": "e2d5cdf5",
   "metadata": {},
   "outputs": [
    {
     "ename": "ValueError",
     "evalue": "shapes (3,3) and (2,3) not aligned: 3 (dim 1) != 2 (dim 0)",
     "output_type": "error",
     "traceback": [
      "\u001b[1;31m---------------------------------------------------------------------------\u001b[0m",
      "\u001b[1;31mValueError\u001b[0m                                Traceback (most recent call last)",
      "\u001b[1;32m<ipython-input-5-e02688747e76>\u001b[0m in \u001b[0;36m<module>\u001b[1;34m\u001b[0m\n\u001b[0;32m      1\u001b[0m \u001b[1;31m# first one have same rows as other column\u001b[0m\u001b[1;33m\u001b[0m\u001b[1;33m\u001b[0m\u001b[1;33m\u001b[0m\u001b[0m\n\u001b[1;32m----> 2\u001b[1;33m \u001b[0mnp\u001b[0m\u001b[1;33m.\u001b[0m\u001b[0mdot\u001b[0m\u001b[1;33m(\u001b[0m\u001b[0marray_one\u001b[0m\u001b[1;33m,\u001b[0m\u001b[0marray_two\u001b[0m\u001b[1;33m.\u001b[0m\u001b[0mtranspose\u001b[0m\u001b[1;33m(\u001b[0m\u001b[1;33m)\u001b[0m\u001b[1;33m)\u001b[0m\u001b[1;33m\u001b[0m\u001b[1;33m\u001b[0m\u001b[0m\n\u001b[0m",
      "\u001b[1;32m<__array_function__ internals>\u001b[0m in \u001b[0;36mdot\u001b[1;34m(*args, **kwargs)\u001b[0m\n",
      "\u001b[1;31mValueError\u001b[0m: shapes (3,3) and (2,3) not aligned: 3 (dim 1) != 2 (dim 0)"
     ]
    }
   ],
   "source": [
    "# first one have same rows as other column\n",
    "np.dot(array_one,array_two.transpose())"
   ]
  },
  {
   "cell_type": "code",
   "execution_count": 17,
   "id": "afb80133",
   "metadata": {},
   "outputs": [
    {
     "name": "stdout",
     "output_type": "stream",
     "text": [
      "[[2 5 4 4 4]\n",
      " [3 7 7 4 7]\n",
      " [6 6 7 4 9]\n",
      " [7 6 2 8 3]\n",
      " [6 9 7 5 1]\n",
      " [1 6 1 1 7]]\n",
      "[[2 9 5 8 6]\n",
      " [3 7 9 6 2]\n",
      " [4 5 7 1 8]\n",
      " [2 2 9 5 5]\n",
      " [2 2 1 8 8]\n",
      " [8 4 9 9 4]]\n"
     ]
    }
   ],
   "source": [
    "# Create two arrays of random integers between 0 & 10 of the same shape\n",
    "# and save them to variables\n",
    "array_one = np.random.randint(1,10,size=(6,5))\n",
    "print(array_one)\n",
    "array_two = np.random.randint(1,10,size=(6,5))\n",
    "print(array_two)"
   ]
  },
  {
   "cell_type": "markdown",
   "id": "e289ab78",
   "metadata": {},
   "source": [
    "# Compare the two arrays with '>'"
   ]
  },
  {
   "cell_type": "code",
   "execution_count": 18,
   "id": "5fcfe22d",
   "metadata": {},
   "outputs": [
    {
     "data": {
      "text/plain": [
       "array([[False, False, False, False, False],\n",
       "       [False, False, False, False,  True],\n",
       "       [ True,  True, False,  True,  True],\n",
       "       [ True,  True, False,  True, False],\n",
       "       [ True,  True,  True, False, False],\n",
       "       [False,  True, False, False,  True]])"
      ]
     },
     "execution_count": 18,
     "metadata": {},
     "output_type": "execute_result"
    }
   ],
   "source": [
    "array_one > array_two"
   ]
  },
  {
   "cell_type": "markdown",
   "id": "1f94623a",
   "metadata": {},
   "source": [
    "\n",
    "# Compare the two arrays with '>='"
   ]
  },
  {
   "cell_type": "code",
   "execution_count": 20,
   "id": "cca3364f",
   "metadata": {},
   "outputs": [
    {
     "data": {
      "text/plain": [
       "array([[ True, False, False, False, False],\n",
       "       [ True,  True, False, False,  True],\n",
       "       [ True,  True,  True,  True,  True],\n",
       "       [ True,  True, False,  True, False],\n",
       "       [ True,  True,  True, False, False],\n",
       "       [False,  True, False, False,  True]])"
      ]
     },
     "execution_count": 20,
     "metadata": {},
     "output_type": "execute_result"
    }
   ],
   "source": [
    "array_one >= array_two"
   ]
  },
  {
   "cell_type": "markdown",
   "id": "5fa1092c",
   "metadata": {},
   "source": [
    "\n",
    "# Find which elements of the first array are greater than 7"
   ]
  },
  {
   "cell_type": "code",
   "execution_count": 24,
   "id": "e95c0c83",
   "metadata": {},
   "outputs": [
    {
     "name": "stdout",
     "output_type": "stream",
     "text": [
      "False\n",
      "False\n"
     ]
    }
   ],
   "source": [
    "print(array_one[0,0] > 7)\n",
    "print(array_two[0,0] > 7)"
   ]
  },
  {
   "cell_type": "markdown",
   "id": "f9d82dc0",
   "metadata": {},
   "source": [
    "# Which parts of each array are equal? (try using '==')"
   ]
  },
  {
   "cell_type": "code",
   "execution_count": 25,
   "id": "149f7156",
   "metadata": {},
   "outputs": [
    {
     "data": {
      "text/plain": [
       "array([[ True, False, False, False, False],\n",
       "       [ True,  True, False, False, False],\n",
       "       [False, False,  True, False, False],\n",
       "       [False, False, False, False, False],\n",
       "       [False, False, False, False, False],\n",
       "       [False, False, False, False, False]])"
      ]
     },
     "execution_count": 25,
     "metadata": {},
     "output_type": "execute_result"
    }
   ],
   "source": [
    "array_one == array_two"
   ]
  },
  {
   "cell_type": "markdown",
   "id": "8ec0886d",
   "metadata": {},
   "source": [
    "\n",
    "# Sort one of the arrays you just created in ascending order"
   ]
  },
  {
   "cell_type": "code",
   "execution_count": 35,
   "id": "d5ddbffe",
   "metadata": {},
   "outputs": [
    {
     "data": {
      "text/plain": [
       "array([[2, 5, 4, 4, 4],\n",
       "       [3, 7, 7, 4, 7],\n",
       "       [6, 6, 7, 4, 9],\n",
       "       [7, 6, 2, 8, 3],\n",
       "       [6, 9, 7, 5, 1],\n",
       "       [1, 6, 1, 1, 7]])"
      ]
     },
     "execution_count": 35,
     "metadata": {},
     "output_type": "execute_result"
    }
   ],
   "source": [
    "np.sort(array_one)\n",
    "array_one"
   ]
  },
  {
   "cell_type": "markdown",
   "id": "3c24d810",
   "metadata": {},
   "source": [
    "\n",
    "# Sort the indexes of one of the arrays you just created"
   ]
  },
  {
   "cell_type": "code",
   "execution_count": 32,
   "id": "118bbf52",
   "metadata": {},
   "outputs": [
    {
     "data": {
      "text/plain": [
       "array([[0, 2, 3, 4, 1],\n",
       "       [0, 3, 1, 2, 4],\n",
       "       [3, 0, 1, 2, 4],\n",
       "       [2, 4, 1, 0, 3],\n",
       "       [4, 3, 0, 2, 1],\n",
       "       [0, 2, 3, 1, 4]], dtype=int64)"
      ]
     },
     "execution_count": 32,
     "metadata": {},
     "output_type": "execute_result"
    }
   ],
   "source": [
    "np.argsort(array_one)"
   ]
  },
  {
   "cell_type": "markdown",
   "id": "c54ed234",
   "metadata": {},
   "source": [
    "\n",
    "# Find the index with the maximum value in one of the arrays you've created"
   ]
  },
  {
   "cell_type": "code",
   "execution_count": 39,
   "id": "71fa6cce",
   "metadata": {},
   "outputs": [
    {
     "data": {
      "text/plain": [
       "14"
      ]
     },
     "execution_count": 39,
     "metadata": {},
     "output_type": "execute_result"
    }
   ],
   "source": [
    "np.argmax(array_one)"
   ]
  },
  {
   "cell_type": "markdown",
   "id": "38046f0f",
   "metadata": {},
   "source": [
    "# Find the index with the minimum value in one of the arrays you've created"
   ]
  },
  {
   "cell_type": "code",
   "execution_count": 48,
   "id": "9ea95c59",
   "metadata": {},
   "outputs": [
    {
     "name": "stdout",
     "output_type": "stream",
     "text": [
      "[[17 15 10 17]\n",
      " [12 12 10 10]\n",
      " [11 12 15 15]]\n"
     ]
    },
    {
     "data": {
      "text/plain": [
       "2"
      ]
     },
     "execution_count": 48,
     "metadata": {},
     "output_type": "execute_result"
    }
   ],
   "source": [
    "new_array = np.random.randint(10,20,size=(3,4))\n",
    "print(new_array)\n",
    "np.argmin(new_array)"
   ]
  },
  {
   "cell_type": "markdown",
   "id": "c87e08ed",
   "metadata": {},
   "source": [
    "# Find the indexes with the maximum values down the 1st axis (axis=1)\n",
    "# of one of the arrays you created"
   ]
  },
  {
   "cell_type": "code",
   "execution_count": 47,
   "id": "eb036b56",
   "metadata": {},
   "outputs": [
    {
     "data": {
      "text/plain": [
       "array([1, 1, 4, 3, 1, 4], dtype=int64)"
      ]
     },
     "execution_count": 47,
     "metadata": {},
     "output_type": "execute_result"
    }
   ],
   "source": [
    "np.argmax(array_one,axis=1)\n"
   ]
  },
  {
   "cell_type": "markdown",
   "id": "5faf052c",
   "metadata": {},
   "source": [
    "# Find the indexes with the minimum values across the 0th axis (axis=0)\n",
    "# of one of the arrays you created"
   ]
  },
  {
   "cell_type": "code",
   "execution_count": 51,
   "id": "db03b1cf",
   "metadata": {},
   "outputs": [
    {
     "name": "stdout",
     "output_type": "stream",
     "text": [
      "[2 1 0 1]\n"
     ]
    }
   ],
   "source": [
    "print(np.argmin(new_array,axis=0))\n"
   ]
  },
  {
   "cell_type": "markdown",
   "id": "4a0bcd83",
   "metadata": {},
   "source": [
    "# Create an array of normally distributed random numbers"
   ]
  },
  {
   "cell_type": "code",
   "execution_count": 52,
   "id": "6a470239",
   "metadata": {},
   "outputs": [
    {
     "data": {
      "text/plain": [
       "array([[ 2.05124526,  0.48133773,  0.93356722,  0.26394414,  1.66011414],\n",
       "       [-0.79445839, -1.60957086,  0.65360726, -1.81093295, -0.56291894],\n",
       "       [-1.17411385,  0.10922248,  0.25609984,  0.10827822, -0.33555116]])"
      ]
     },
     "execution_count": 52,
     "metadata": {},
     "output_type": "execute_result"
    }
   ],
   "source": [
    "np.random.randn(3, 5)"
   ]
  },
  {
   "cell_type": "markdown",
   "id": "c4fdaa8e",
   "metadata": {},
   "source": [
    "# Create an array with 10 evenly spaced numbers between 1 and 100"
   ]
  },
  {
   "cell_type": "code",
   "execution_count": 53,
   "id": "46f9ac46",
   "metadata": {},
   "outputs": [
    {
     "data": {
      "text/plain": [
       "array([  1.,  12.,  23.,  34.,  45.,  56.,  67.,  78.,  89., 100.])"
      ]
     },
     "execution_count": 53,
     "metadata": {},
     "output_type": "execute_result"
    }
   ],
   "source": [
    "np.linspace(1, 100, 10)"
   ]
  }
 ],
 "metadata": {
  "kernelspec": {
   "display_name": "Python 3",
   "language": "python",
   "name": "python3"
  },
  "language_info": {
   "codemirror_mode": {
    "name": "ipython",
    "version": 3
   },
   "file_extension": ".py",
   "mimetype": "text/x-python",
   "name": "python",
   "nbconvert_exporter": "python",
   "pygments_lexer": "ipython3",
   "version": "3.8.8"
  }
 },
 "nbformat": 4,
 "nbformat_minor": 5
}
